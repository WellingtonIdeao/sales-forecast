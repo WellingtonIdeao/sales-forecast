{
 "cells": [
  {
   "cell_type": "code",
   "execution_count": null,
   "metadata": {},
   "outputs": [],
   "source": [
    "# extracao/obtencao de dados\n",
    "import pandas as pd\n",
    "df = pd.read_csv(\"advertising.csv\")\n",
    "display(df)\n",
    "display(df.info())"
   ]
  },
  {
   "cell_type": "code",
   "execution_count": null,
   "metadata": {},
   "outputs": [],
   "source": [
    "# analise exploratoria\n",
    "# importando bibliotecas graficas\n",
    "\n",
    "import seaborn as sns\n",
    "import matplotlib.pyplot as plt\n",
    "\n",
    "sns.pairplot(df)\n",
    "plt.show()\n",
    "sns.heatmap(df.corr(), cmap=\"Wistia\", annot=True)\n",
    "plt.show()"
   ]
  },
  {
   "cell_type": "code",
   "execution_count": null,
   "metadata": {},
   "outputs": [],
   "source": [
    "# modelo de previsao de vendas\n",
    "# importando bibliotecas\n",
    "from sklearn.model_selection import train_test_split\n",
    "# inputs\n",
    "x = df.drop(\"Vendas\", axis=1)\n",
    "# outputs\n",
    "y = df[\"Vendas\"]\n",
    "\n",
    "# dividir em dados(inputs/outputs) de treino e teste \n",
    "\n",
    "# treino 70% e teste 30%\n",
    "x_train, x_test, y_train, y_test = train_test_split(x,y,test_size=0.3, random_state=1)"
   ]
  },
  {
   "cell_type": "code",
   "execution_count": null,
   "metadata": {},
   "outputs": [],
   "source": [
    "# modelo de inteligencia artificial de regressao\n",
    "\n",
    "# importando modelos de regressao (valores)\n",
    "from sklearn.linear_model import LinearRegression\n",
    "from sklearn.ensemble import RandomForestRegressor\n",
    "from sklearn import metrics\n",
    "import numpy as np\n",
    "\n",
    "# iniciar AI\n",
    "lin_reg = LinearRegression()\n",
    "rf_reg = RandomForestRegressor()\n",
    "\n",
    "# treino AI\n",
    "# x_train, y_train == variaveis de treino\n",
    "lin_reg.fit(x_train, y_train)\n",
    "rf_reg.fit(x_train, y_train)\n",
    "\n",
    "# teste AI\n",
    "# x_test ==  input de teste\n",
    "test_pred_lin = lin_reg.predict(x_test)\n",
    "test_pred_rf = rf_reg.predict(x_test)\n",
    "\n",
    "# indicadores - descrevendo a qualidade da regressao: R², RSME\n",
    "\n",
    "# y_test == output de teste\n",
    "r2_lin = metrics.r2_score(y_test, test_pred_lin)\n",
    "rsme_lin = np.sqrt(metrics.mean_squared_error(y_test, test_pred_lin))\n",
    "\n",
    "print(f\"R² da Regressao linear: {r2_lin}\")\n",
    "print(f\"RSME da Regressao linear: {rsme_lin}\")\n",
    "\n",
    "r2_rf = metrics.r2_score(y_test, test_pred_rf)\n",
    "rsme_rf = np.sqrt(metrics.mean_squared_error(y_test, test_pred_rf))\n",
    "\n",
    "print(f\"R² da Random Forest: {r2_rf}\")\n",
    "print(f\"RSME da Random Forest: {rsme_rf}\")\n",
    "\n",
    "\n",
    "\n",
    "\n"
   ]
  },
  {
   "cell_type": "code",
   "execution_count": null,
   "metadata": {
    "scrolled": false
   },
   "outputs": [],
   "source": [
    "# analise grafica dos resultados do modelo de regressao\n",
    "\n",
    "df_result = pd.DataFrame()\n",
    "df_result[\"y_test\"] = y_test\n",
    "df_result[\"y_prediction_rf\"] = test_pred_rf\n",
    "df_result[\"y_prediction_lin\"] = test_pred_rf\n",
    "df_result = df_result.reset_index(drop=True)\n",
    "\n",
    "fig = plt.figure(figsize=(15, 5))\n",
    "sns.lineplot(data=df_result)\n",
    "plt.show()\n",
    "display(df_result)"
   ]
  },
  {
   "cell_type": "code",
   "execution_count": null,
   "metadata": {},
   "outputs": [],
   "source": [
    "# importancia_features = pd.DataFrame(rf_reg.feature_importances_, x_train.columns)\n",
    "plt.figure(figsize=(15, 5))\n",
    "sns.barplot(x=x_train.columns, y=rf_reg.feature_importances_)\n",
    "plt.show()"
   ]
  }
 ],
 "metadata": {
  "kernelspec": {
   "display_name": "Python 3",
   "language": "python",
   "name": "python3"
  },
  "language_info": {
   "codemirror_mode": {
    "name": "ipython",
    "version": 3
   },
   "file_extension": ".py",
   "mimetype": "text/x-python",
   "name": "python",
   "nbconvert_exporter": "python",
   "pygments_lexer": "ipython3",
   "version": "3.8.5"
  }
 },
 "nbformat": 4,
 "nbformat_minor": 4
}
